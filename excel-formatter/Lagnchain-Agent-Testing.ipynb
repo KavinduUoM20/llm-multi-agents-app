{
 "cells": [
  {
   "cell_type": "code",
   "execution_count": 3,
   "id": "eb0e1d8d-9a6a-480d-9769-57ea093e1b98",
   "metadata": {},
   "outputs": [],
   "source": [
    "from langchain.agents.agent_types import AgentType\n",
    "from langchain_experimental.agents.agent_toolkits import create_pandas_dataframe_agent\n",
    "from langchain_openai import ChatOpenAI"
   ]
  },
  {
   "cell_type": "code",
   "execution_count": 4,
   "id": "f4021b9c-7a36-4f1a-929a-84bd6e70e94e",
   "metadata": {},
   "outputs": [
    {
     "name": "stderr",
     "output_type": "stream",
     "text": [
      "C:\\Users\\Acer\\AppData\\Local\\Temp\\ipykernel_7236\\3759012710.py:4: DtypeWarning: Columns (9,14,31) have mixed types. Specify dtype option on import or set low_memory=False.\n",
      "  df = pd.read_csv(\n"
     ]
    }
   ],
   "source": [
    "import pandas as pd\n",
    "from langchain_openai import OpenAI\n",
    "\n",
    "df = pd.read_csv(\n",
    "   'MAS - GSP Stacked Global Capacity 01.csv'\n",
    ")"
   ]
  },
  {
   "cell_type": "code",
   "execution_count": 5,
   "id": "a184c358-2fd2-403e-a077-a7e192bb8afa",
   "metadata": {},
   "outputs": [
    {
     "ename": "ValueError",
     "evalue": "This agent relies on access to a python repl tool which can execute arbitrary code. This can be dangerous and requires a specially sandboxed environment to be safely used. Please read the security notice in the doc-string of this function. You must opt-in to use this functionality by setting allow_dangerous_code=True.For general security guidelines, please see: https://python.langchain.com/docs/security/",
     "output_type": "error",
     "traceback": [
      "\u001b[31m---------------------------------------------------------------------------\u001b[39m",
      "\u001b[31mValueError\u001b[39m                                Traceback (most recent call last)",
      "\u001b[36mCell\u001b[39m\u001b[36m \u001b[39m\u001b[32mIn[5]\u001b[39m\u001b[32m, line 1\u001b[39m\n\u001b[32m----> \u001b[39m\u001b[32m1\u001b[39m agent = \u001b[43mcreate_pandas_dataframe_agent\u001b[49m\u001b[43m(\u001b[49m\n\u001b[32m      2\u001b[39m \u001b[43m    \u001b[49m\u001b[43mChatOpenAI\u001b[49m\u001b[43m(\u001b[49m\u001b[43mtemperature\u001b[49m\u001b[43m=\u001b[49m\u001b[32;43m0\u001b[39;49m\u001b[43m,\u001b[49m\u001b[43m \u001b[49m\u001b[43mmodel\u001b[49m\u001b[43m=\u001b[49m\u001b[33;43m\"\u001b[39;49m\u001b[33;43mgpt-4o\u001b[39;49m\u001b[33;43m\"\u001b[39;49m\u001b[43m)\u001b[49m\u001b[43m,\u001b[49m\n\u001b[32m      3\u001b[39m \u001b[43m    \u001b[49m\u001b[43mdf\u001b[49m\u001b[43m,\u001b[49m\n\u001b[32m      4\u001b[39m \u001b[43m    \u001b[49m\u001b[43mverbose\u001b[49m\u001b[43m=\u001b[49m\u001b[38;5;28;43;01mTrue\u001b[39;49;00m\u001b[43m,\u001b[49m\n\u001b[32m      5\u001b[39m \u001b[43m    \u001b[49m\u001b[43magent_type\u001b[49m\u001b[43m=\u001b[49m\u001b[43mAgentType\u001b[49m\u001b[43m.\u001b[49m\u001b[43mOPENAI_FUNCTIONS\u001b[49m\u001b[43m,\u001b[49m\n\u001b[32m      6\u001b[39m \u001b[43m)\u001b[49m\n",
      "\u001b[36mFile \u001b[39m\u001b[32mE:\\PROJECTS - AI\\llm-multi-agents-app\\env\\Lib\\site-packages\\langchain_experimental\\agents\\agent_toolkits\\pandas\\base.py:249\u001b[39m, in \u001b[36mcreate_pandas_dataframe_agent\u001b[39m\u001b[34m(llm, df, agent_type, callback_manager, prefix, suffix, input_variables, verbose, return_intermediate_steps, max_iterations, max_execution_time, early_stopping_method, agent_executor_kwargs, include_df_in_prompt, number_of_head_rows, extra_tools, engine, allow_dangerous_code, **kwargs)\u001b[39m\n\u001b[32m    175\u001b[39m \u001b[38;5;250m\u001b[39m\u001b[33;03m\"\"\"Construct a Pandas agent from an LLM and dataframe(s).\u001b[39;00m\n\u001b[32m    176\u001b[39m \n\u001b[32m    177\u001b[39m \u001b[33;03mSecurity Notice:\u001b[39;00m\n\u001b[32m   (...)\u001b[39m\u001b[32m    246\u001b[39m \n\u001b[32m    247\u001b[39m \u001b[33;03m\"\"\"\u001b[39;00m\n\u001b[32m    248\u001b[39m \u001b[38;5;28;01mif\u001b[39;00m \u001b[38;5;129;01mnot\u001b[39;00m allow_dangerous_code:\n\u001b[32m--> \u001b[39m\u001b[32m249\u001b[39m     \u001b[38;5;28;01mraise\u001b[39;00m \u001b[38;5;167;01mValueError\u001b[39;00m(\n\u001b[32m    250\u001b[39m         \u001b[33m\"\u001b[39m\u001b[33mThis agent relies on access to a python repl tool which can execute \u001b[39m\u001b[33m\"\u001b[39m\n\u001b[32m    251\u001b[39m         \u001b[33m\"\u001b[39m\u001b[33marbitrary code. This can be dangerous and requires a specially sandboxed \u001b[39m\u001b[33m\"\u001b[39m\n\u001b[32m    252\u001b[39m         \u001b[33m\"\u001b[39m\u001b[33menvironment to be safely used. Please read the security notice in the \u001b[39m\u001b[33m\"\u001b[39m\n\u001b[32m    253\u001b[39m         \u001b[33m\"\u001b[39m\u001b[33mdoc-string of this function. You must opt-in to use this functionality \u001b[39m\u001b[33m\"\u001b[39m\n\u001b[32m    254\u001b[39m         \u001b[33m\"\u001b[39m\u001b[33mby setting allow_dangerous_code=True.\u001b[39m\u001b[33m\"\u001b[39m\n\u001b[32m    255\u001b[39m         \u001b[33m\"\u001b[39m\u001b[33mFor general security guidelines, please see: \u001b[39m\u001b[33m\"\u001b[39m\n\u001b[32m    256\u001b[39m         \u001b[33m\"\u001b[39m\u001b[33mhttps://python.langchain.com/docs/security/\u001b[39m\u001b[33m\"\u001b[39m\n\u001b[32m    257\u001b[39m     )\n\u001b[32m    258\u001b[39m \u001b[38;5;28;01mtry\u001b[39;00m:\n\u001b[32m    259\u001b[39m     \u001b[38;5;28;01mif\u001b[39;00m engine == \u001b[33m\"\u001b[39m\u001b[33mmodin\u001b[39m\u001b[33m\"\u001b[39m:\n",
      "\u001b[31mValueError\u001b[39m: This agent relies on access to a python repl tool which can execute arbitrary code. This can be dangerous and requires a specially sandboxed environment to be safely used. Please read the security notice in the doc-string of this function. You must opt-in to use this functionality by setting allow_dangerous_code=True.For general security guidelines, please see: https://python.langchain.com/docs/security/"
     ]
    }
   ],
   "source": [
    "agent = create_pandas_dataframe_agent(\n",
    "    ChatOpenAI(temperature=0, model=\"gpt-4o\"),\n",
    "    df,\n",
    "    verbose=True,\n",
    "    agent_type=AgentType.OPENAI_FUNCTIONS,\n",
    ")"
   ]
  },
  {
   "cell_type": "code",
   "execution_count": null,
   "id": "56471395-2f7b-410a-8948-602211cc14aa",
   "metadata": {},
   "outputs": [],
   "source": []
  }
 ],
 "metadata": {
  "kernelspec": {
   "display_name": "Python 3 (ipykernel)",
   "language": "python",
   "name": "python3"
  },
  "language_info": {
   "codemirror_mode": {
    "name": "ipython",
    "version": 3
   },
   "file_extension": ".py",
   "mimetype": "text/x-python",
   "name": "python",
   "nbconvert_exporter": "python",
   "pygments_lexer": "ipython3",
   "version": "3.11.5"
  }
 },
 "nbformat": 4,
 "nbformat_minor": 5
}
